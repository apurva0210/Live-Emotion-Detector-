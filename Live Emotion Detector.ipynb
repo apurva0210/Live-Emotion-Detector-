{
 "cells": [
  {
   "cell_type": "code",
   "execution_count": 1,
   "id": "4fcc9f37",
   "metadata": {},
   "outputs": [
    {
     "name": "stderr",
     "output_type": "stream",
     "text": [
      "C:\\Users\\Apurva\\AppData\\Local\\Temp\\ipykernel_20344\\4276245813.py:41: GradioDeprecationWarning: `capture_session` parameter is deprecated, and it has no effect\n",
      "  mood_interface = gr.Interface(fn=predict_mood, inputs=\"image\", outputs=\"text\", live=True, capture_session=True)\n"
     ]
    },
    {
     "name": "stdout",
     "output_type": "stream",
     "text": [
      "Running on local URL:  http://127.0.0.1:7860\n",
      "\n",
      "Could not create share link. Please check your internet connection or our status page: https://status.gradio.app.\n"
     ]
    },
    {
     "data": {
      "text/html": [
       "<div><iframe src=\"http://127.0.0.1:7860/\" width=\"100%\" height=\"500\" allow=\"autoplay; camera; microphone; clipboard-read; clipboard-write;\" frameborder=\"0\" allowfullscreen></iframe></div>"
      ],
      "text/plain": [
       "<IPython.core.display.HTML object>"
      ]
     },
     "metadata": {},
     "output_type": "display_data"
    },
    {
     "data": {
      "text/plain": []
     },
     "execution_count": 1,
     "metadata": {},
     "output_type": "execute_result"
    },
    {
     "name": "stdout",
     "output_type": "stream",
     "text": [
      "1/1 [==============================] - 0s 221ms/step\n"
     ]
    }
   ],
   "source": [
    "import gradio as gr\n",
    "import cv2\n",
    "import numpy as np\n",
    "from tensorflow.keras.preprocessing.image import img_to_array\n",
    "from tensorflow.keras.models import load_model\n",
    "\n",
    "# Load your pre-trained mood prediction model\n",
    "model_path = r\"C:\\Users\\Apurva\\Documents\\projects\\Mood_Exp_Model\"\n",
    "model = load_model(model_path)\n",
    "\n",
    "# Define the mood classes\n",
    "mood_classes = ['Happy', 'Sad', 'Disgust', 'Confused', 'Fear', 'Excitement', 'Surprise', 'Neutral', 'Angry']\n",
    "\n",
    "# Define the function for mood prediction\n",
    "def predict_mood(image):\n",
    "    # Convert Gradio Image to NumPy array\n",
    "    image_np = np.array(image)\n",
    "    \n",
    "    # Convert the image to grayscale\n",
    "    image_np_gray = cv2.cvtColor(image_np, cv2.COLOR_BGR2GRAY)\n",
    "    \n",
    "    # Pre-process the image for classification\n",
    "    image_np_gray = cv2.resize(image_np_gray, (120, 120))\n",
    "    image_np_gray = image_np_gray.astype(\"float\") / 255.0\n",
    "    image_np_gray = img_to_array(image_np_gray)\n",
    "    image_np_gray = np.expand_dims(image_np_gray, axis=0)\n",
    "    \n",
    "    # Make predictions\n",
    "    preds = model.predict(image_np_gray)[0]\n",
    "    \n",
    "    # Get the mood class with the highest probability\n",
    "    max_prob_index = np.argmax(preds)\n",
    "    predicted_mood = mood_classes[max_prob_index]\n",
    "    \n",
    "    # Return the result as a text description\n",
    "    result = f\"This person looks {predicted_mood.lower()}.\"\n",
    "    \n",
    "    return result\n",
    "\n",
    "# Create Gradio interface\n",
    "mood_interface = gr.Interface(fn=predict_mood, inputs=\"image\", outputs=\"text\", live=True, capture_session=True)\n",
    "\n",
    "# Launch the Gradio interface\n",
    "mood_interface.launch(share=True)\n"
   ]
  },
  {
   "cell_type": "code",
   "execution_count": null,
   "id": "288d923c",
   "metadata": {},
   "outputs": [],
   "source": []
  }
 ],
 "metadata": {
  "kernelspec": {
   "display_name": "Python 3 (ipykernel)",
   "language": "python",
   "name": "python3"
  },
  "language_info": {
   "codemirror_mode": {
    "name": "ipython",
    "version": 3
   },
   "file_extension": ".py",
   "mimetype": "text/x-python",
   "name": "python",
   "nbconvert_exporter": "python",
   "pygments_lexer": "ipython3",
   "version": "3.9.13"
  }
 },
 "nbformat": 4,
 "nbformat_minor": 5
}
